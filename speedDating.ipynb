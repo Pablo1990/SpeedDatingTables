{
 "cells": [
  {
   "cell_type": "code",
   "execution_count": 1,
   "id": "eb1ce3ff-979c-4672-adde-2f4b97b8e223",
   "metadata": {},
   "outputs": [],
   "source": [
    "## Speed dating algorithm:\n",
    "# Groups of 6 people, then rotate groups, \n",
    "# no 2 people from same lab (ideally), no 2 people meet again\n",
    "# 10 times\n",
    "\n",
    "#number of people per group\n",
    "peopleInGroup = 6\n",
    "\n",
    "numberOfTimes = 6"
   ]
  },
  {
   "cell_type": "code",
   "execution_count": 2,
   "id": "d2d7f3f4-9dd8-4261-983a-67adcd7f3bad",
   "metadata": {},
   "outputs": [
    {
     "name": "stdout",
     "output_type": "stream",
     "text": [
      "           Name    Groups\n",
      "0       Bejamin     Acton\n",
      "1        Foakes     Acton\n",
      "2    Gari Hupta     Acton\n",
      "3      Heeringa     Acton\n",
      "4      Horsnell     Acton\n",
      "..          ...       ...\n",
      "97        Marsh     Marsh\n",
      "98     Michaels  Michaels\n",
      "99      Pichaud   Pichaud\n",
      "100     Pitcher   Pitcher\n",
      "101      Stefan    Stefan\n",
      "\n",
      "[102 rows x 2 columns]\n"
     ]
    }
   ],
   "source": [
    "# Read excel/csv\n",
    "import pandas as pd\n",
    "\n",
    "fileName = 'ListOfPeoplewithPI.xlsx'\n",
    "listOfPeople = pd.read_excel(fileName)\n",
    "\n",
    "print(listOfPeople)\n"
   ]
  },
  {
   "cell_type": "code",
   "execution_count": 3,
   "id": "621b60ae-eec3-4e5c-bcba-31d5ae90e9fe",
   "metadata": {},
   "outputs": [
    {
     "data": {
      "text/plain": [
       "102"
      ]
     },
     "execution_count": 3,
     "metadata": {},
     "output_type": "execute_result"
    }
   ],
   "source": [
    "max(listOfPeople.index) + 1"
   ]
  },
  {
   "cell_type": "code",
   "execution_count": 4,
   "id": "61ea2097-5a1f-43cf-9912-b355688e2152",
   "metadata": {},
   "outputs": [],
   "source": [
    "# https://stackoverflow.com/questions/36429507/python-combinations-without-repetitions\n",
    "# Author: hahho\n",
    "from itertools import chain, repeat, count, islice\n",
    "from collections import Counter\n",
    "\n",
    "\n",
    "def repeat_chain(values, counts):\n",
    "    return chain.from_iterable(map(repeat, values, counts))\n",
    "\n",
    "\n",
    "def unique_combinations_from_value_counts(values, counts, r):\n",
    "    n = len(counts)\n",
    "    indices = list(islice(repeat_chain(count(), counts), r))\n",
    "    if len(indices) < r:\n",
    "        return\n",
    "    while True:\n",
    "        yield tuple(values[i] for i in indices)\n",
    "        for i, j in zip(reversed(range(r)), repeat_chain(reversed(range(n)), reversed(counts))):\n",
    "            if indices[i] != j:\n",
    "                break\n",
    "        else:\n",
    "            return\n",
    "        j = indices[i] + 1\n",
    "        for i, j in zip(range(i, r), repeat_chain(count(j), counts[j:])):\n",
    "            indices[i] = j\n",
    "\n",
    "\n",
    "def unique_combinations(iterable, r):\n",
    "    values, counts = zip(*Counter(iterable).items())\n",
    "    return unique_combinations_from_value_counts(values, counts, r)"
   ]
  },
  {
   "cell_type": "code",
   "execution_count": 5,
   "id": "09dbfa70-ed91-4618-9504-d70df2f83c7f",
   "metadata": {},
   "outputs": [],
   "source": [
    "# Create list of available people for each person\n",
    "availableChoices = dict();\n",
    "for numPerson in listOfPeople.index:\n",
    "    availableChoices[numPerson] = listOfPeople.index[listOfPeople.Groups[numPerson] != listOfPeople.Groups]"
   ]
  },
  {
   "cell_type": "code",
   "execution_count": 6,
   "id": "914f8134-355e-4803-a330-d0ac78d1adda",
   "metadata": {},
   "outputs": [
    {
     "data": {
      "text/plain": [
       "Int64Index([  8,   9,  10,  11,  12,  13,  14,  15,  16,  17,  18,  19,  20,\n",
       "             21,  22,  23,  24,  25,  26,  27,  28,  29,  30,  31,  32,  33,\n",
       "             34,  35,  36,  37,  38,  39,  40,  41,  42,  43,  44,  45,  46,\n",
       "             47,  48,  49,  50,  51,  52,  53,  54,  55,  56,  57,  58,  59,\n",
       "             60,  61,  62,  63,  64,  65,  66,  67,  68,  69,  70,  71,  72,\n",
       "             73,  74,  75,  76,  77,  78,  79,  80,  81,  82,  83,  84,  86,\n",
       "             87,  88,  89,  90,  91,  92,  93,  94,  95,  96,  97,  98,  99,\n",
       "            100, 101],\n",
       "           dtype='int64')"
      ]
     },
     "execution_count": 6,
     "metadata": {},
     "output_type": "execute_result"
    }
   ],
   "source": [
    "availableChoices[1]"
   ]
  },
  {
   "cell_type": "code",
   "execution_count": 7,
   "id": "e8c9c437-1243-4734-87de-b6282deb183a",
   "metadata": {},
   "outputs": [],
   "source": [
    "import random\n",
    "import numpy as np\n",
    "import math\n",
    "\n"
   ]
  },
  {
   "cell_type": "code",
   "execution_count": null,
   "id": "70ab41d0-9ced-4ced-90d8-ceb2c6125edb",
   "metadata": {},
   "outputs": [],
   "source": []
  },
  {
   "cell_type": "code",
   "execution_count": null,
   "id": "97aa4c68-023f-46c9-983f-1d22b5354b49",
   "metadata": {},
   "outputs": [
    {
     "name": "stdout",
     "output_type": "stream",
     "text": [
      "New Best!\n",
      "27.607843137254903\n",
      "8.392156862745098\n",
      "New Best!\n",
      "27.941176470588236\n",
      "8.058823529411764\n",
      "New Best!\n",
      "28.274509803921568\n",
      "7.7254901960784315\n",
      "New Best!\n",
      "28.392156862745097\n",
      "7.607843137254902\n"
     ]
    }
   ],
   "source": [
    "uniquePeopleMetBest = 0;\n",
    "repeatedPeopleTotalBest = 100;\n",
    "groupsPerTimeBest = list();\n",
    "while uniquePeopleMetBest <= 60 and repeatedPeopleTotalBest >= 1:\n",
    "    availableChoicesPrev = availableChoices.copy();\n",
    "    availableChoicesCurrent = availableChoices.copy();\n",
    "\n",
    "    remainingPeople = list(listOfPeople.index);\n",
    "    groupsPerTime = list();\n",
    "    numTime = 0\n",
    "    while len(groupsPerTime)+1 < ((max(listOfPeople.index) + 1) / peopleInGroup)*numberOfTimes:\n",
    "        #print(numTime)\n",
    "        remainingPeople = list(listOfPeople.index);\n",
    "        try:\n",
    "            while len(remainingPeople) > 0:\n",
    "                random_num = random.choice(remainingPeople)\n",
    "                #print(random_num)\n",
    "                currentGroup = [random_num];\n",
    "                remainingPeople.remove(random_num);\n",
    "\n",
    "                while len(currentGroup) < peopleInGroup:\n",
    "                    currentAvailableGroup = availableChoicesCurrent[currentGroup[0]]\n",
    "                    for person in currentGroup:\n",
    "                        currentAvailableGroup = currentAvailableGroup.intersection(availableChoicesCurrent[person])\n",
    "                    currentAvailableGroup = currentAvailableGroup.intersection(remainingPeople)\n",
    "                    random_num = random.choice(remainingPeople)\n",
    "                    #print(random_num)\n",
    "                    currentGroup.append(random_num);\n",
    "                    remainingPeople.remove(random_num);\n",
    "\n",
    "                for person in currentGroup:\n",
    "                    for otherPerson in currentGroup:\n",
    "                        availableChoicesCurrent[person] = availableChoicesCurrent[person].delete(availableChoicesCurrent[person] == otherPerson)\n",
    "\n",
    "                groupsPerTime.append(currentGroup);\n",
    "            numTime = numTime + 1;\n",
    "        except Exception:\n",
    "            numTime = 0;\n",
    "            availableChoicesCurrent = availableChoices.copy();\n",
    "            groupsPerTime = list();\n",
    "\n",
    "    # Calculate average number of people that have seen each other more than once\n",
    "    repeatedPeopleTotal = 0;\n",
    "    uniquePeopleMet = 0;\n",
    "    for idPerson in listOfPeople.index:\n",
    "        unique_numbers = list();\n",
    "        for group in groupsPerTime:\n",
    "            if idPerson in group:\n",
    "                for item in group:\n",
    "                    unique_numbers.append(item)\n",
    "        repeatedPeopleTotal += len(unique_numbers) - len(set(unique_numbers))\n",
    "        uniquePeopleMet += len(set(unique_numbers))\n",
    "\n",
    "    uniquePeopleMetCurrent = uniquePeopleMet / (max(listOfPeople.index) + 1)\n",
    "    repeatedPeopleTotalCurrent = repeatedPeopleTotal / (max(listOfPeople.index) + 1)\n",
    "        \n",
    "    if uniquePeopleMetCurrent > uniquePeopleMetBest and repeatedPeopleTotalCurrent < repeatedPeopleTotalBest:\n",
    "        print('New Best!')\n",
    "        groupsPerTimeBest = groupsPerTime.copy();\n",
    "        uniquePeopleMetBest = uniquePeopleMetCurrent;\n",
    "        repeatedPeopleTotalBest = repeatedPeopleTotalCurrent;\n",
    "        print(uniquePeopleMetBest)\n",
    "        print(repeatedPeopleTotalBest)"
   ]
  },
  {
   "cell_type": "code",
   "execution_count": null,
   "id": "d6c681be-69f2-452e-a6f2-9143722fff59",
   "metadata": {},
   "outputs": [],
   "source": [
    " ((max(listOfPeople.index) + 1) / peopleInGroup)*numberOfTimes"
   ]
  },
  {
   "cell_type": "code",
   "execution_count": null,
   "id": "5ea2ed65-8476-4ec4-a956-33a808f03b8f",
   "metadata": {},
   "outputs": [],
   "source": [
    "len(groupsPerTime)"
   ]
  },
  {
   "cell_type": "code",
   "execution_count": null,
   "id": "06e425c5-ba1f-4e12-bac8-6139c11f1264",
   "metadata": {},
   "outputs": [],
   "source": []
  },
  {
   "cell_type": "code",
   "execution_count": null,
   "id": "d3deaf0c-113b-498a-838f-6c5e272d1b66",
   "metadata": {},
   "outputs": [],
   "source": [
    "unique_numbers"
   ]
  }
 ],
 "metadata": {
  "kernelspec": {
   "display_name": "Python 3 (ipykernel)",
   "language": "python",
   "name": "python3"
  },
  "language_info": {
   "codemirror_mode": {
    "name": "ipython",
    "version": 3
   },
   "file_extension": ".py",
   "mimetype": "text/x-python",
   "name": "python",
   "nbconvert_exporter": "python",
   "pygments_lexer": "ipython3",
   "version": "3.8.8"
  }
 },
 "nbformat": 4,
 "nbformat_minor": 5
}
