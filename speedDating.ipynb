{
 "cells": [
  {
   "cell_type": "code",
   "execution_count": null,
   "id": "eb1ce3ff-979c-4672-adde-2f4b97b8e223",
   "metadata": {},
   "outputs": [],
   "source": [
    "## Speed dating algorithm:\n",
    "# Groups of 6 people, then rotate groups, \n",
    "# no 2 people from same lab (ideally), no 2 people meet again\n",
    "# 10 times\n",
    "\n",
    "#number of people per group\n",
    "peopleInGroup = 6\n",
    "\n",
    "numberOfTimes = 8"
   ]
  },
  {
   "cell_type": "code",
   "execution_count": null,
   "id": "9a2ef459-9d24-41e7-8518-9d5a5d62d5b8",
   "metadata": {},
   "outputs": [],
   "source": [
    "import random\n",
    "import numpy as np\n",
    "import math\n",
    "import pandas as pd"
   ]
  },
  {
   "cell_type": "code",
   "execution_count": null,
   "id": "d2d7f3f4-9dd8-4261-983a-67adcd7f3bad",
   "metadata": {},
   "outputs": [],
   "source": [
    "# Read excel/csv\n",
    "fileName = 'ListOfPeoplewithPI.xlsx'\n",
    "listOfPeople = pd.read_excel(fileName)"
   ]
  },
  {
   "cell_type": "code",
   "execution_count": null,
   "id": "621b60ae-eec3-4e5c-bcba-31d5ae90e9fe",
   "metadata": {},
   "outputs": [],
   "source": [
    "max(listOfPeople.index) + 1"
   ]
  },
  {
   "cell_type": "code",
   "execution_count": null,
   "id": "09dbfa70-ed91-4618-9504-d70df2f83c7f",
   "metadata": {},
   "outputs": [],
   "source": [
    "# Create list of available people for each person\n",
    "availableChoices = dict();\n",
    "for numPerson in listOfPeople.index:\n",
    "    availableChoices[numPerson] = listOfPeople.index[listOfPeople.Groups[numPerson] != listOfPeople.Groups]"
   ]
  },
  {
   "cell_type": "code",
   "execution_count": null,
   "id": "70ab41d0-9ced-4ced-90d8-ceb2c6125edb",
   "metadata": {},
   "outputs": [],
   "source": []
  },
  {
   "cell_type": "code",
   "execution_count": null,
   "id": "97aa4c68-023f-46c9-983f-1d22b5354b49",
   "metadata": {
    "tags": []
   },
   "outputs": [],
   "source": [
    "uniquePeopleMetBest = 0;\n",
    "repeatedPeopleTotalBest = 100;\n",
    "groupsPerTimeBest = list();\n",
    "newBest = 0\n",
    "while (uniquePeopleMetBest <= 60 and repeatedPeopleTotalBest >= 1) or newBest > 3:\n",
    "    availableChoicesPrev = availableChoices.copy();\n",
    "    availableChoicesCurrent = availableChoices.copy();\n",
    "\n",
    "    remainingPeople = list(listOfPeople.index);\n",
    "    groupsPerTime = list();\n",
    "    numTime = 0\n",
    "    while len(groupsPerTime)+1 < ((max(listOfPeople.index) + 1) / peopleInGroup)*numberOfTimes or len(remainingPeople) > 0:\n",
    "        #print(numTime)\n",
    "        remainingPeople = list(listOfPeople.index);\n",
    "        try:\n",
    "            while len(remainingPeople) > 0:\n",
    "                random_num = random.choice(remainingPeople)\n",
    "                #print(random_num)\n",
    "                currentGroup = [random_num];\n",
    "                remainingPeople.remove(random_num);\n",
    "\n",
    "                while len(currentGroup) < peopleInGroup and len(remainingPeople) > 0:\n",
    "                    currentAvailableGroup = availableChoicesCurrent[currentGroup[0]]\n",
    "                    for person in currentGroup:\n",
    "                        currentAvailableGroup = currentAvailableGroup.intersection(availableChoicesCurrent[person])\n",
    "                    currentAvailableGroup = currentAvailableGroup.intersection(remainingPeople)\n",
    "                    random_num = random.choice(currentAvailableGroup)\n",
    "                    #print(random_num)\n",
    "                    currentGroup.append(random_num);\n",
    "                    remainingPeople.remove(random_num);\n",
    "\n",
    "                #for person in currentGroup:\n",
    "                    #for otherPerson in currentGroup:\n",
    "                        #availableChoicesCurrent[person] = availableChoicesCurrent[person].delete(availableChoicesCurrent[person] == otherPerson)\n",
    "\n",
    "                groupsPerTime.append(currentGroup);\n",
    "            numTime = numTime + 1;\n",
    "        except Exception as e:\n",
    "            #print(e)\n",
    "            #print(remainingPeople)\n",
    "            numTime = 0;\n",
    "            availableChoicesCurrent = availableChoices.copy();\n",
    "            groupsPerTime = list();\n",
    "\n",
    "    # Calculate average number of people that have seen each other more than once\n",
    "    repeatedPeopleTotal = 0;\n",
    "    uniquePeopleMet = 0;\n",
    "    for idPerson in listOfPeople.index:\n",
    "        unique_numbers = list();\n",
    "        for group in groupsPerTime:\n",
    "            if idPerson in group:\n",
    "                for item in group:\n",
    "                    unique_numbers.append(item)\n",
    "                unique_numbers.remove(idPerson)\n",
    "        repeatedPeopleTotal += len(unique_numbers) - len(set(unique_numbers))\n",
    "        uniquePeopleMet += len(set(unique_numbers))\n",
    "\n",
    "    uniquePeopleMetCurrent = uniquePeopleMet / (max(listOfPeople.index) + 1)\n",
    "    repeatedPeopleTotalCurrent = repeatedPeopleTotal / (max(listOfPeople.index) + 1)\n",
    "        \n",
    "    if uniquePeopleMetCurrent > uniquePeopleMetBest and repeatedPeopleTotalCurrent < repeatedPeopleTotalBest:\n",
    "        print('New Best!')\n",
    "        groupsPerTimeBest = groupsPerTime.copy();\n",
    "        uniquePeopleMetBest = uniquePeopleMetCurrent;\n",
    "        repeatedPeopleTotalBest = repeatedPeopleTotalCurrent;\n",
    "        print(uniquePeopleMetBest)\n",
    "        print(repeatedPeopleTotalBest)\n",
    "        newBest = newBest + 1"
   ]
  },
  {
   "cell_type": "code",
   "execution_count": null,
   "id": "d2ef75b4-662a-4db8-88ec-db3241883ecd",
   "metadata": {},
   "outputs": [],
   "source": [
    "fileName = 'groupsOfPeople_N_' + str(peopleInGroup) + '_times_' + str(numberOfTimes) + '.xlsx'\n",
    "fileName"
   ]
  },
  {
   "cell_type": "code",
   "execution_count": null,
   "id": "ff3d81ca-cac1-490b-beec-446294a97a22",
   "metadata": {},
   "outputs": [],
   "source": [
    "numGroup = 1;\n",
    "numRound = 1;\n",
    "maxGroups = math.ceil((max(listOfPeople.index) + 1) / peopleInGroup);\n",
    "\n",
    "columnNames = list();\n",
    "for num in range(maxGroups):\n",
    "    columnNames.append('Group' + str(num+1))\n",
    "\n",
    "df = pd.DataFrame(columns=columnNames, index = range(peopleInGroup))\n",
    "#print('Round 1:')\n",
    "with pd.ExcelWriter(fileName) as writer:\n",
    "    df = pd.DataFrame(columns=columnNames, index = range(peopleInGroup))\n",
    "    for group in groupsPerTimeBest:\n",
    "        #print('Group ' + str(numGroup) + ':')\n",
    "        numPerson = 0;\n",
    "        for person in group:\n",
    "            #print(str(listOfPeople.FirstName[person]) + ' ' + listOfPeople.LastName[person] + ' (' + listOfPeople.Groups[person] + ')')\n",
    "            df.loc[numPerson, 'Group' + str(numGroup)] = (str(listOfPeople.FirstName[person]) + ' ' + listOfPeople.LastName[person] + ' (' + listOfPeople.Groups[person] + ')')\n",
    "            numPerson = numPerson + 1;\n",
    "        numGroup = numGroup + 1;\n",
    "        if numGroup > maxGroups:\n",
    "            numGroup = 1\n",
    "            #print('Round ' + str(numRound) + ':')\n",
    "            df.to_excel(writer, sheet_name='Round' + str(numRound))\n",
    "            numRound = numRound + 1"
   ]
  },
  {
   "cell_type": "code",
   "execution_count": null,
   "id": "08f60dfd-2568-42f4-ab3b-d1209911c461",
   "metadata": {},
   "outputs": [],
   "source": []
  },
  {
   "cell_type": "code",
   "execution_count": null,
   "id": "eb3806d9-3b9a-48e0-8e14-5f76c8f9b4ba",
   "metadata": {},
   "outputs": [],
   "source": [
    "repeatedPeopleTotal = 0;\n",
    "uniquePeopleMet = 0;\n",
    "for idPerson in listOfPeople.index:\n",
    "    unique_numbers = list();\n",
    "    for group in groupsPerTimeBest:\n",
    "        if idPerson in group:\n",
    "            for item in group:\n",
    "                unique_numbers.append(item)\n",
    "            unique_numbers.remove(idPerson)\n",
    "    \n",
    "    #print(unique_numbers)\n",
    "    repeatedPeopleTotal += len(unique_numbers) - len(set(unique_numbers))\n",
    "    uniquePeopleMet += len(set(unique_numbers))\n",
    "\n",
    "uniquePeopleMetCurrent = uniquePeopleMet / (max(listOfPeople.index) + 1)\n",
    "repeatedPeopleTotalCurrent = repeatedPeopleTotal / (max(listOfPeople.index) + 1)\n",
    "print(uniquePeopleMetCurrent)\n",
    "print(repeatedPeopleTotalCurrent)"
   ]
  },
  {
   "cell_type": "code",
   "execution_count": null,
   "id": "7aa3130f-9b62-44ff-a7a6-48f8bbc84d96",
   "metadata": {},
   "outputs": [],
   "source": []
  }
 ],
 "metadata": {
  "kernelspec": {
   "display_name": "Python 3 (ipykernel)",
   "language": "python",
   "name": "python3"
  },
  "language_info": {
   "codemirror_mode": {
    "name": "ipython",
    "version": 3
   },
   "file_extension": ".py",
   "mimetype": "text/x-python",
   "name": "python",
   "nbconvert_exporter": "python",
   "pygments_lexer": "ipython3",
   "version": "3.8.8"
  }
 },
 "nbformat": 4,
 "nbformat_minor": 5
}
